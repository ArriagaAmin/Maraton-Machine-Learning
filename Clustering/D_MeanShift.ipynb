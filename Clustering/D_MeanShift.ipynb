{
 "cells": [
  {
   "cell_type": "markdown",
   "metadata": {},
   "source": [
    "# **MEAN SHIFT**"
   ]
  },
  {
   "cell_type": "markdown",
   "metadata": {},
   "source": [
    "## **Implementacion**"
   ]
  },
  {
   "cell_type": "code",
   "execution_count": 40,
   "metadata": {},
   "outputs": [],
   "source": [
    "import numpy as np\n",
    "import matplotlib.pyplot as plt\n",
    "\n",
    "from math import sqrt, e\n",
    "from random import randint, uniform\n",
    "from time import sleep\n",
    "\n",
    "from IPython.display import display, clear_output"
   ]
  },
  {
   "cell_type": "code",
   "execution_count": 65,
   "metadata": {},
   "outputs": [],
   "source": [
    "class MeanShift:\n",
    "  def __init__(self, X):\n",
    "    self.X = X\n",
    "    \n",
    "  def gauss(self, x, y, b):\n",
    "    \"\"\" Kernel Gaussiano. \"\"\"\n",
    "    return e**(-np.dot(x-y, x-y)/(2*(b**2)))\n",
    "               \n",
    "  def train(self, b):\n",
    "    \"\"\" Realizamos el clustering. \"\"\"\n",
    "    # Hacemos una copia de los datos. La copia sera la que se modificara.\n",
    "    X_aux = [x.copy() for x in X]\n",
    "    # Indica si el i-esimo dato ya alcanzo una cima.\n",
    "    peek = [False for _ in X]\n",
    "    # Graficaremos cada shift.\n",
    "    fig = plt.figure()\n",
    "    g = fig.add_subplot(111)\n",
    "    \n",
    "    # Mientras no todos los datos se encuentren en un pico.\n",
    "    while not all(peek):\n",
    "      # Por cada dato.\n",
    "      for i in range(len(self.X)):\n",
    "        # Si no esta en un pico.\n",
    "        if not peek[i]:\n",
    "          # Almacenamos el valor actual del dato y realizamos el shift.\n",
    "          x_last = X_aux[i].copy()\n",
    "          X_aux[i] = self.shift(X_aux[i], b)\n",
    "          # Si la distancia que se movio el dato es menor a un epsilon,\n",
    "          # alcanzamos un pico.\n",
    "          if np.linalg.norm(x_last - X_aux[i]) < 0.01: peek[i] = True\n",
    "         \n",
    "      # Limpiamos la grafica y graficamos los nuevos datos.\n",
    "      g.cla()\n",
    "      g.plot([x[0] for x in X_aux], [x[1] for x in X_aux], 'o')\n",
    "      display(fig)\n",
    "      clear_output(wait = True)\n",
    "      plt.pause(0.5)\n",
    "    return X_aux\n",
    "               \n",
    "  def shift(self, x, b):\n",
    "    \"\"\" Realiza un shift en un dato. \"\"\"\n",
    "    # Aqui almacenaremos el shift en cada coordenada.\n",
    "    d = np.array([0.0 for _ in range(len(x))])\n",
    "    f = 0\n",
    "    # Por cada dato.\n",
    "    for x_i in self.X:\n",
    "      w = self.gauss(x, x_i, b)\n",
    "      d += np.array([w*x_i[j] for j in range(len(x_i))])\n",
    "      f += w\n",
    "    return d/f"
   ]
  },
  {
   "cell_type": "markdown",
   "metadata": {},
   "source": [
    "## **Lectura de Datos**"
   ]
  },
  {
   "cell_type": "code",
   "execution_count": 66,
   "metadata": {},
   "outputs": [
    {
     "data": {
      "image/png": "[encoded data removed]",
      "text/plain": [
       "<Figure size 432x288 with 1 Axes>"
      ]
     },
     "metadata": {
      "needs_background": "light"
     },
     "output_type": "display_data"
    }
   ],
   "source": [
    "X = []\n",
    "while len(X) < 100:\n",
    "  d = [uniform(0, 10), uniform(0, 10)]\n",
    "  if ((0 <= d[0] <= 2) and (6 <= d[1] <= 10)) or \\\n",
    "    ((3 <= d[0] <= 6) and (4 <= d[1] <= 7)) or \\\n",
    "    ((5 <= d[0] <= 10) and (0 <= d[1] <= 4)):\n",
    "    X.append(np.array(d))\n",
    "    \n",
    "plt.plot([x[0] for x in X], [x[1] for x in X], 'o')\n",
    "plt.show()"
   ]
  },
  {
   "cell_type": "markdown",
   "metadata": {},
   "source": [
    "## **Resultados**"
   ]
  },
  {
   "cell_type": "code",
   "execution_count": 67,
   "metadata": {},
   "outputs": [
    {
     "data": {
      "image/png": "[encoded data removed]",
      "text/plain": [
       "<Figure size 432x288 with 1 Axes>"
      ]
     },
     "metadata": {},
     "output_type": "display_data"
    }
   ],
   "source": [
    "MS = MeanShift(X)\n",
    "X_r = MS.train(1)"
   ]
  },
  {
   "cell_type": "code",
   "execution_count": null,
   "metadata": {},
   "outputs": [],
   "source": []
  }
 ],
 "metadata": {
  "kernelspec": {
   "display_name": "Python 3",
   "language": "python",
   "name": "python3"
  },
  "language_info": {
   "codemirror_mode": {
    "name": "ipython",
    "version": 3
   },
   "file_extension": ".py",
   "mimetype": "text/x-python",
   "name": "python",
   "nbconvert_exporter": "python",
   "pygments_lexer": "ipython3",
   "version": "3.7.3"
  }
 },
 "nbformat": 4,
 "nbformat_minor": 4
}
