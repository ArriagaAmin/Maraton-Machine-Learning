{
 "cells": [
  {
   "cell_type": "markdown",
   "metadata": {},
   "source": [
    "# **SPECTRAL CLUSTERING**"
   ]
  },
  {
   "cell_type": "markdown",
   "metadata": {},
   "source": [
    "## **Implementacion**"
   ]
  },
  {
   "cell_type": "markdown",
   "metadata": {},
   "source": [
    "### **K-Means**"
   ]
  },
  {
   "cell_type": "code",
   "execution_count": 46,
   "metadata": {},
   "outputs": [],
   "source": [
    "import numpy as np\n",
    "import matplotlib.pyplot as plt\n",
    "import csv\n",
    "\n",
    "from mpl_toolkits.mplot3d import axes3d\n",
    "from math import sqrt, inf\n",
    "from random import randint, uniform"
   ]
  },
  {
   "cell_type": "code",
   "execution_count": 55,
   "metadata": {},
   "outputs": [],
   "source": [
    "class KMeans:\n",
    "  def __init__(self, X, K):\n",
    "    self.X = X\n",
    "    self.K = K \n",
    "    self.centers = self.random_centers()\n",
    "  \n",
    "  def random_centers(self):\n",
    "    N = len(self.X[0])\n",
    "    x_min = [min(x[i] for x in self.X) for i in range(N)]\n",
    "    x_max = [max(x[i] for x in self.X) for i in range(N)]\n",
    "    centers = np.array([[uniform(x_min[i], x_max[i]) for i in range(N)] for _ in range(self.K)])\n",
    "    return centers\n",
    "\n",
    "  def inertia(self):\n",
    "    return sum(min(np.linalg.norm(x - u)**2 for u in self.centers) for x in self.X)\n",
    "\n",
    "  def d(self, x, y):\n",
    "    return np.linalg.norm(x-y)\n",
    "\n",
    "  def train(self, steps = -1):\n",
    "    S_i = self.inertia\n",
    "    S = 0\n",
    "    while S_i != S and steps != 0:\n",
    "      steps -= 1\n",
    "      # Actualizamos la inercia anterior.\n",
    "      S = S_i\n",
    "\n",
    "      # Agregamos cada elemento a su cluster correspondiente.\n",
    "      self.clusters = [[] for _ in range(self.K)]\n",
    "      for x in self.X:\n",
    "        min_d = inf\n",
    "        center = None\n",
    "        for i, c in enumerate(self.centers):\n",
    "          dist = self.d(x, c)\n",
    "          if dist < min_d:\n",
    "            min_d = dist\n",
    "            center = i\n",
    "        self.clusters[center].append(x)\n",
    "\n",
    "      # Los nuevos centros seran los centros son promediados.\n",
    "      for i in range(len(self.clusters)):\n",
    "        self.centers[i] = sum(x for x in self.clusters[i])/max(1, len(self.clusters[i]))\n",
    "\n",
    "      # Se calcula la inercia actual.\n",
    "      S_i = self.inertia()"
   ]
  },
  {
   "cell_type": "markdown",
   "metadata": {},
   "source": [
    "### **KNN**"
   ]
  },
  {
   "cell_type": "code",
   "execution_count": 56,
   "metadata": {},
   "outputs": [],
   "source": [
    "class Node:\n",
    "  def __init__(self, parent, x, area):\n",
    "    self.parent = parent\n",
    "    self.x = x\n",
    "    self.childs = [None, None]  # [left_child, right_child]\n",
    "    # El area es un vector 2*len(x)-dimensional y representa un hipercubo, donde cada\n",
    "    # par de elementos representan los valores minimos y maximos de una determinada coordenada.\n",
    "    # Por ejemplo, si len(x) == 2, entonces area = [a, b, c, d] representa el cuadrado:\n",
    "    #      a <= x[0] <= b;    c <= x[1] <= d\n",
    "    self.area = area\n",
    "\n",
    "class KNN:\n",
    "  def __init__(self, X):\n",
    "    self.X = X\n",
    "    \n",
    "  def d(self, x, y):\n",
    "    \"\"\" Distancia euclidiana entre dos vectores. \"\"\"\n",
    "    return np.linalg.norm(x-y)\n",
    "    \n",
    "  def build_kd_tree(self, X=None, parent=None, right=True, d=0, root=True, area=None):\n",
    "    \"\"\" Construimos un KD-Tree.\n",
    "    INPUT:\n",
    "        X: Conjunto de datos del nodo actual.\n",
    "        parent: Nodo padre del nodo actual.\n",
    "        right: Indica si el nodo actual es el hijo derecho.\n",
    "        d: Atributo que se usara para realizar la division binaria de los datos.\n",
    "        root: Indica si el nodo actual es la raiz de todo el arbol.\n",
    "        area: Area que representa el nodo actual.\n",
    "    \"\"\"\n",
    "    # Si el nodo es la raiz, entonces tomamos todos los datos y el area es todo el espacio.\n",
    "    if root: \n",
    "      X = self.X\n",
    "      area = [-inf,inf]*len(X[0])\n",
    "        \n",
    "    # Si no hay elementos, no se crea ningun nodo\n",
    "    if len(X) == 0: return\n",
    "    # Si solo hay un elemento, creamos un nodo con ese unico elemento.\n",
    "    elif len(X) == 1:\n",
    "      node = Node(parent, X[0], area)\n",
    "      # Verificamos que el nodo no sea la raiz, lo que significaria que solo hay un dato.\n",
    "      if not root: parent.childs[int(right)] = node\n",
    "    # Si hay mas de un dato.\n",
    "    else:\n",
    "      # Ordenamos los elementos segun el d-esimo atributo.\n",
    "      X_c = X.copy()\n",
    "      X_c.sort(key = lambda x: x[d])\n",
    "      # Obtenemos la mediana.\n",
    "      m = int(len(X_c)/2)\n",
    "      x_m = X_c[m]\n",
    "      # Creamos un nuevo nodo donde se almacenara la mediana.\n",
    "      node = Node(parent, x_m, area)\n",
    "      if not root: parent.childs[int(right)] = node\n",
    "      else: self.kd_tree = node\n",
    "      # Llamamos recursivamente la funcion para los hijos izquierdo y derecho.\n",
    "      # Derecho\n",
    "      X_r = X_c[m+1:].copy()\n",
    "      area_r = area.copy()\n",
    "      area_r[2*d] = x_m[d]\n",
    "      # Izquierdo\n",
    "      X_l = X_c[:m].copy()\n",
    "      area_l = area.copy()\n",
    "      area_l[2*d+1] = x_m[d]\n",
    "      # Llamada recursiva\n",
    "      self.build_kd_tree(X_l, node, False, (d+1)%len(x_m), False, area_l)\n",
    "      self.build_kd_tree(X_r, node, True, (d+1)%len(x_m), False, area_r)\n",
    "\n",
    "  def knn(self, x, k, method=\"Force\"):\n",
    "    \"\"\" Calculamos los k vecinos mas cercanos de un determinado elemento. \n",
    "    INPUT:\n",
    "        x: Elemento.\n",
    "        k: Numero de vecinos.\n",
    "        method: Metodo que se realizara para calcular los k vecinos. Solo puede\n",
    "            tomar el valor de \"Force\" y \"KD-Tree\" \"\"\"\n",
    "    # Calculamos los k vecinos usando fuerza bruta.\n",
    "    if method == \"Force\":\n",
    "      # Almacenamoslas distancias y los vecinos correspondientes.\n",
    "      distances, neighbors = [], []\n",
    "      # Por cada elemento del dataset.\n",
    "      for x_i in self.X:\n",
    "        # Calculamos la distancia.\n",
    "        dist = self.d(x, x_i)\n",
    "        find = False\n",
    "        # Usando la idea de insertion-sort, insertamos el elemento segun la distancia\n",
    "        # obtenida.\n",
    "        for i in range(len(distances)):\n",
    "          if distances[i] > dist:\n",
    "            A, B = distances[:i].copy(), neighbors[:i].copy()\n",
    "            A.append(dist)\n",
    "            B.append(x_i)\n",
    "            A.extend(distances[i:])\n",
    "            B.extend(neighbors[i:])\n",
    "            distances, neighbors = A.copy(), B.copy()\n",
    "            find = True\n",
    "            break\n",
    "        if not find: \n",
    "          distances.append(dist)\n",
    "          neighbors.append(x_i)\n",
    "      # Retornamos los primeros k elementos que seran los de menor distancia.\n",
    "      return neighbors[:k]\n",
    "    \n",
    "    # Calculamos los k vecinos utilizando el KD-Tree.\n",
    "    elif method == \"KD-Tree\":\n",
    "      # Aqui almacenaremos las k distancias minimas.\n",
    "      self.min_d = [inf]*k\n",
    "      # Y aqui los k vecinos.\n",
    "      self.neighbors = [None]*k\n",
    "        \n",
    "      self.knn_kd_tree(x, self.kd_tree, 0)\n",
    "        \n",
    "      neighbors = self.neighbors\n",
    "      # Nos aseguramos de eliminar estos atributos.\n",
    "      self.min_d = None\n",
    "      self.neighbors = None\n",
    "      return neighbors\n",
    "\n",
    "  def knn_kd_tree(self, x, node, d):\n",
    "    # Verificamos si el punto se encuentra fuera del hipercubo definido por el nodo actual.\n",
    "    if not all(node.area[2*i] <= x[i] <= node.area[2*i+1] for i in range(len(x))):\n",
    "      # Por cada dimension, verificamos si el punto se encuentra dentro de los lados\n",
    "      # correspondientes al hipercubo\n",
    "      p = []\n",
    "      for i in range(len(x)):\n",
    "        # Si no es asi, almacenamos la coordenada del punto que se encuentra fuera del\n",
    "        # lado del hipercubo.\n",
    "        if node.area[2*i] > x[i]: p.append(node.area[2*i])\n",
    "        elif x[i] > node.area[2*i+1]: p.append(node.area[2*i+1])\n",
    "        else: p.append(x[i])\n",
    "        \n",
    "            \n",
    "      # Calculamos la distancia entre las coordenadas del punto fuera del hipercubo y\n",
    "      # la interseccion de los lados correspondientes. Si es mayor a la mayor de las \n",
    "      # distancias menores actuales, entonces no existe ninguno punto dentro del hipercubo\n",
    "      # que este mas cerca que alguno de los actuales k vecinos.\n",
    "      dist = self.d(np.array(p), x)\n",
    "      if dist >= self.min_d[-1]: return\n",
    "        \n",
    "    # Calculamos la distancia entre el punto y la raiz actual. Verificamos si es menor\n",
    "    # que alguna de las menores distancias.\n",
    "    dist = self.d(x, node.x)\n",
    "    for i in range(len(self.min_d)):\n",
    "      if dist < self.min_d[i]:\n",
    "        # Copiamos los i-1-esimos vecinos actuales\n",
    "        aux_d, aux_n = self.min_d[:i].copy(), self.neighbors[:i].copy()\n",
    "        # Agregamos el nuevo\n",
    "        aux_d.append(dist)\n",
    "        aux_n.append(node.x)\n",
    "        # Agregamos los vecinos restantes, menos el ultimo que queda fuera.\n",
    "        aux_d.extend(self.min_d[i:len(self.min_d)-1])\n",
    "        aux_n.extend(self.neighbors[i:len(self.neighbors)-1])\n",
    "        # Actualizamos.\n",
    "        self.min_d, self.neighbors = aux_d, aux_n\n",
    "        # Salimos del for\n",
    "        break\n",
    "        \n",
    "    # Llamamos primero a la subdivision del arbol tal que el punto cumpla la condicion,\n",
    "    # con la esperanza de que al llamar el segundo hijo, este pueda ser descartado facilmente.\n",
    "    # Si no cumple ninguna, se recorre primero el hijo izquierdo (si no es nulo) y luego el derecho.\n",
    "    if x[d] <= node.area[2*d+1] and node.childs[0] != None: \n",
    "      self.knn_kd_tree(x, node.childs[0], (d+1)%len(x))\n",
    "      if node.childs[1] != None:\n",
    "        self.knn_kd_tree(x, node.childs[1], (d+1)%len(x))\n",
    "        \n",
    "    elif x[d] >= node.area[2*d] and node.childs[1] != None: \n",
    "      self.knn_kd_tree(x, node.childs[1], (d+1)%len(x))\n",
    "      if node.childs[0] != None:\n",
    "        self.knn_kd_tree(x, node.childs[0], (d+1)%len(x))\n",
    "    \n",
    "    elif node.childs[0] != None: \n",
    "      self.knn_kd_tree(x, node.childs[0], (d+1)%len(x))\n",
    "      if node.childs[1] != None:\n",
    "        self.knn_kd_tree(x, node.childs[1], (d+1)%len(x))\n",
    "        \n",
    "    elif node.childs[1] != None:\n",
    "      self.knn_kd_tree(x, node.childs[1], (d+1)%len(x))\n",
    "      "
   ]
  },
  {
   "cell_type": "markdown",
   "metadata": {},
   "source": [
    "### **Spectral Clustering**"
   ]
  },
  {
   "cell_type": "code",
   "execution_count": 202,
   "metadata": {},
   "outputs": [],
   "source": [
    "class SpectClust:\n",
    "  def __init__(self, X):\n",
    "    self.X = X\n",
    "    \n",
    "  def clustering(self, K):\n",
    "    # Construimos el KD-Tree para calcular los KNN\n",
    "    knn = KNN(self.X)\n",
    "    knn.build_kd_tree()\n",
    "    \n",
    "    # Construimos la matriz de adyacencia y de grados segun los KNN\n",
    "    N = len(self.X)\n",
    "    W = [[0 for _ in range(N)] for _ in range(N)]\n",
    "    D = [[0 for _ in range(N)] for _ in range(N)]\n",
    "    \n",
    "    # Calculamos los vecinos de cada dato.\n",
    "    neighbors = [knn.knn(self.X[i], 10, method=\"KD-Tree\") for i in range(N)]\n",
    "    \n",
    "    # Por cada par de datos.\n",
    "    for i in range(N):\n",
    "      for j in range(i+1, N):\n",
    "        # Si  ambos son vecinos cercanos entre si.\n",
    "        if any(np.equal(n_h, self.X[j]).all() for n_h in neighbors[i]) and \\\n",
    "           any(np.equal(n_h, self.X[i]).all() for n_h in neighbors[j]):\n",
    "          # Agregamos una conexion entre los datos i,j con el valor de la distancia\n",
    "          # entre ellos.\n",
    "          W[i][j], W[j][i] = 1, 1\n",
    "          D[i][i], D[j][j] = D[i][i]+1, D[j][j]+1w\n",
    "        \n",
    "    # Invertimos la matriz de grados y calculamos el grafo Laplaciano\n",
    "    L = np.array(D) - np.array(W)\n",
    "    \n",
    "    e, v = np.linalg.eig(L)\n",
    "    i = np.where(e < 0.5)[0]\n",
    "    U = v[:, i[1]]\n",
    "    U_aux = [u.copy() for u in U]\n",
    "    plt.plot([i for i in range(len(U))], U, '.')\n",
    "    \n",
    "    km = KMeans(U, K)\n",
    "    km.train()\n",
    "    \n",
    "    self.clusters = [[] for _ in range(K)]\n",
    "    for i in range(N):\n",
    "      for c in range(K):\n",
    "        if any(np.equal(U_aux[i], x).all() for x in km.clusters[c]):\n",
    "          self.clusters[c].append(self.X[i])"
   ]
  },
  {
   "cell_type": "code",
   "execution_count": 203,
   "metadata": {},
   "outputs": [
    {
     "data": {
      "image/png": "[encoded data removed]",
      "text/plain": [
       "<Figure size 432x288 with 1 Axes>"
      ]
     },
     "metadata": {
      "needs_background": "light"
     },
     "output_type": "display_data"
    }
   ],
   "source": [
    "nb_samples = 100\n",
    " \n",
    "X0 = np.expand_dims(np.linspace(-2 * np.pi, 2 * np.pi, nb_samples), axis=1)\n",
    "Y0 = -3.0 - np.cos(2.0 * X0) + np.random.uniform(0.0, 2.0, size=(nb_samples, 1))\n",
    " \n",
    "X1 = np.expand_dims(np.linspace(-2 * np.pi, 2 * np.pi, nb_samples), axis=1)\n",
    "Y1 = 3.0 - np.cos(2.0 * X0) + np.random.uniform(0.0, 2.0, size=(nb_samples, 1))\n",
    " \n",
    "data_0 = np.concatenate([X0, Y0], axis=1)\n",
    "data_1 = np.concatenate([X1, Y1], axis=1)\n",
    "data = np.concatenate([data_0, data_1], axis=0)\n",
    "data = [d for d in data]\n",
    "\n",
    "plt.plot([d[0] for d in data], [d[1] for d in data], '.')\n",
    "plt.show()"
   ]
  },
  {
   "cell_type": "code",
   "execution_count": 204,
   "metadata": {},
   "outputs": [
    {
     "name": "stderr",
     "output_type": "stream",
     "text": [
      "/home/amin/.local/lib/python3.7/site-packages/numpy/core/_asarray.py:83: ComplexWarning: Casting complex values to real discards the imaginary part\n",
      "  return array(a, dtype, copy=False, order=order)\n"
     ]
    },
    {
     "ename": "TypeError",
     "evalue": "object of type 'numpy.complex128' has no len()",
     "output_type": "error",
     "traceback": [
      "\u001b[0;31m---------------------------------------------------------------------------\u001b[0m",
      "\u001b[0;31mTypeError\u001b[0m                                 Traceback (most recent call last)",
      "\u001b[0;32m<ipython-input-204-988907c049b3>\u001b[0m in \u001b[0;36m<module>\u001b[0;34m\u001b[0m\n\u001b[1;32m      1\u001b[0m \u001b[0mSC\u001b[0m \u001b[0;34m=\u001b[0m \u001b[0mSpectClust\u001b[0m\u001b[0;34m(\u001b[0m\u001b[0mdata\u001b[0m\u001b[0;34m)\u001b[0m\u001b[0;34m\u001b[0m\u001b[0;34m\u001b[0m\u001b[0m\n\u001b[0;32m----> 2\u001b[0;31m \u001b[0mSC\u001b[0m\u001b[0;34m.\u001b[0m\u001b[0mclustering\u001b[0m\u001b[0;34m(\u001b[0m\u001b[0;36m2\u001b[0m\u001b[0;34m)\u001b[0m\u001b[0;34m\u001b[0m\u001b[0;34m\u001b[0m\u001b[0m\n\u001b[0m\u001b[1;32m      3\u001b[0m \u001b[0mplt\u001b[0m\u001b[0;34m.\u001b[0m\u001b[0mplot\u001b[0m\u001b[0;34m(\u001b[0m\u001b[0;34m[\u001b[0m\u001b[0mx\u001b[0m\u001b[0;34m[\u001b[0m\u001b[0;36m0\u001b[0m\u001b[0;34m]\u001b[0m \u001b[0;32mfor\u001b[0m \u001b[0mx\u001b[0m \u001b[0;32min\u001b[0m \u001b[0mSC\u001b[0m\u001b[0;34m.\u001b[0m\u001b[0mclusters\u001b[0m\u001b[0;34m[\u001b[0m\u001b[0;36m0\u001b[0m\u001b[0;34m]\u001b[0m\u001b[0;34m]\u001b[0m\u001b[0;34m,\u001b[0m \u001b[0;34m[\u001b[0m\u001b[0mx\u001b[0m\u001b[0;34m[\u001b[0m\u001b[0;36m1\u001b[0m\u001b[0;34m]\u001b[0m \u001b[0;32mfor\u001b[0m \u001b[0mx\u001b[0m \u001b[0;32min\u001b[0m \u001b[0mSC\u001b[0m\u001b[0;34m.\u001b[0m\u001b[0mclusters\u001b[0m\u001b[0;34m[\u001b[0m\u001b[0;36m0\u001b[0m\u001b[0;34m]\u001b[0m\u001b[0;34m]\u001b[0m\u001b[0;34m,\u001b[0m \u001b[0;34m'o'\u001b[0m\u001b[0;34m,\u001b[0m \u001b[0;34m'r'\u001b[0m\u001b[0;34m)\u001b[0m\u001b[0;34m\u001b[0m\u001b[0;34m\u001b[0m\u001b[0m\n\u001b[1;32m      4\u001b[0m \u001b[0mplt\u001b[0m\u001b[0;34m.\u001b[0m\u001b[0mplot\u001b[0m\u001b[0;34m(\u001b[0m\u001b[0;34m[\u001b[0m\u001b[0mx\u001b[0m\u001b[0;34m[\u001b[0m\u001b[0;36m0\u001b[0m\u001b[0;34m]\u001b[0m \u001b[0;32mfor\u001b[0m \u001b[0mx\u001b[0m \u001b[0;32min\u001b[0m \u001b[0mSC\u001b[0m\u001b[0;34m.\u001b[0m\u001b[0mclusters\u001b[0m\u001b[0;34m[\u001b[0m\u001b[0;36m1\u001b[0m\u001b[0;34m]\u001b[0m\u001b[0;34m]\u001b[0m\u001b[0;34m,\u001b[0m \u001b[0;34m[\u001b[0m\u001b[0mx\u001b[0m\u001b[0;34m[\u001b[0m\u001b[0;36m1\u001b[0m\u001b[0;34m]\u001b[0m \u001b[0;32mfor\u001b[0m \u001b[0mx\u001b[0m \u001b[0;32min\u001b[0m \u001b[0mSC\u001b[0m\u001b[0;34m.\u001b[0m\u001b[0mclusters\u001b[0m\u001b[0;34m[\u001b[0m\u001b[0;36m1\u001b[0m\u001b[0;34m]\u001b[0m\u001b[0;34m]\u001b[0m\u001b[0;34m,\u001b[0m \u001b[0;34m'o'\u001b[0m\u001b[0;34m,\u001b[0m \u001b[0;34m'b'\u001b[0m\u001b[0;34m)\u001b[0m\u001b[0;34m\u001b[0m\u001b[0;34m\u001b[0m\u001b[0m\n\u001b[1;32m      5\u001b[0m \u001b[0mplt\u001b[0m\u001b[0;34m.\u001b[0m\u001b[0mshow\u001b[0m\u001b[0;34m(\u001b[0m\u001b[0;34m)\u001b[0m\u001b[0;34m\u001b[0m\u001b[0;34m\u001b[0m\u001b[0m\n",
      "\u001b[0;32m<ipython-input-202-1242314daf96>\u001b[0m in \u001b[0;36mclustering\u001b[0;34m(self, K)\u001b[0m\n\u001b[1;32m     35\u001b[0m     \u001b[0mplt\u001b[0m\u001b[0;34m.\u001b[0m\u001b[0mplot\u001b[0m\u001b[0;34m(\u001b[0m\u001b[0;34m[\u001b[0m\u001b[0mi\u001b[0m \u001b[0;32mfor\u001b[0m \u001b[0mi\u001b[0m \u001b[0;32min\u001b[0m \u001b[0mrange\u001b[0m\u001b[0;34m(\u001b[0m\u001b[0mlen\u001b[0m\u001b[0;34m(\u001b[0m\u001b[0mU\u001b[0m\u001b[0;34m)\u001b[0m\u001b[0;34m)\u001b[0m\u001b[0;34m]\u001b[0m\u001b[0;34m,\u001b[0m \u001b[0mU\u001b[0m\u001b[0;34m,\u001b[0m \u001b[0;34m'.'\u001b[0m\u001b[0;34m)\u001b[0m\u001b[0;34m\u001b[0m\u001b[0;34m\u001b[0m\u001b[0m\n\u001b[1;32m     36\u001b[0m \u001b[0;34m\u001b[0m\u001b[0m\n\u001b[0;32m---> 37\u001b[0;31m     \u001b[0mkm\u001b[0m \u001b[0;34m=\u001b[0m \u001b[0mKMeans\u001b[0m\u001b[0;34m(\u001b[0m\u001b[0mU\u001b[0m\u001b[0;34m,\u001b[0m \u001b[0mK\u001b[0m\u001b[0;34m)\u001b[0m\u001b[0;34m\u001b[0m\u001b[0;34m\u001b[0m\u001b[0m\n\u001b[0m\u001b[1;32m     38\u001b[0m     \u001b[0mkm\u001b[0m\u001b[0;34m.\u001b[0m\u001b[0mtrain\u001b[0m\u001b[0;34m(\u001b[0m\u001b[0;34m)\u001b[0m\u001b[0;34m\u001b[0m\u001b[0;34m\u001b[0m\u001b[0m\n\u001b[1;32m     39\u001b[0m \u001b[0;34m\u001b[0m\u001b[0m\n",
      "\u001b[0;32m<ipython-input-55-ebe11b76be9f>\u001b[0m in \u001b[0;36m__init__\u001b[0;34m(self, X, K)\u001b[0m\n\u001b[1;32m      3\u001b[0m     \u001b[0mself\u001b[0m\u001b[0;34m.\u001b[0m\u001b[0mX\u001b[0m \u001b[0;34m=\u001b[0m \u001b[0mX\u001b[0m\u001b[0;34m\u001b[0m\u001b[0;34m\u001b[0m\u001b[0m\n\u001b[1;32m      4\u001b[0m     \u001b[0mself\u001b[0m\u001b[0;34m.\u001b[0m\u001b[0mK\u001b[0m \u001b[0;34m=\u001b[0m \u001b[0mK\u001b[0m\u001b[0;34m\u001b[0m\u001b[0;34m\u001b[0m\u001b[0m\n\u001b[0;32m----> 5\u001b[0;31m     \u001b[0mself\u001b[0m\u001b[0;34m.\u001b[0m\u001b[0mcenters\u001b[0m \u001b[0;34m=\u001b[0m \u001b[0mself\u001b[0m\u001b[0;34m.\u001b[0m\u001b[0mrandom_centers\u001b[0m\u001b[0;34m(\u001b[0m\u001b[0;34m)\u001b[0m\u001b[0;34m\u001b[0m\u001b[0;34m\u001b[0m\u001b[0m\n\u001b[0m\u001b[1;32m      6\u001b[0m \u001b[0;34m\u001b[0m\u001b[0m\n\u001b[1;32m      7\u001b[0m   \u001b[0;32mdef\u001b[0m \u001b[0mrandom_centers\u001b[0m\u001b[0;34m(\u001b[0m\u001b[0mself\u001b[0m\u001b[0;34m)\u001b[0m\u001b[0;34m:\u001b[0m\u001b[0;34m\u001b[0m\u001b[0;34m\u001b[0m\u001b[0m\n",
      "\u001b[0;32m<ipython-input-55-ebe11b76be9f>\u001b[0m in \u001b[0;36mrandom_centers\u001b[0;34m(self)\u001b[0m\n\u001b[1;32m      6\u001b[0m \u001b[0;34m\u001b[0m\u001b[0m\n\u001b[1;32m      7\u001b[0m   \u001b[0;32mdef\u001b[0m \u001b[0mrandom_centers\u001b[0m\u001b[0;34m(\u001b[0m\u001b[0mself\u001b[0m\u001b[0;34m)\u001b[0m\u001b[0;34m:\u001b[0m\u001b[0;34m\u001b[0m\u001b[0;34m\u001b[0m\u001b[0m\n\u001b[0;32m----> 8\u001b[0;31m     \u001b[0mN\u001b[0m \u001b[0;34m=\u001b[0m \u001b[0mlen\u001b[0m\u001b[0;34m(\u001b[0m\u001b[0mself\u001b[0m\u001b[0;34m.\u001b[0m\u001b[0mX\u001b[0m\u001b[0;34m[\u001b[0m\u001b[0;36m0\u001b[0m\u001b[0;34m]\u001b[0m\u001b[0;34m)\u001b[0m\u001b[0;34m\u001b[0m\u001b[0;34m\u001b[0m\u001b[0m\n\u001b[0m\u001b[1;32m      9\u001b[0m     \u001b[0mx_min\u001b[0m \u001b[0;34m=\u001b[0m \u001b[0;34m[\u001b[0m\u001b[0mmin\u001b[0m\u001b[0;34m(\u001b[0m\u001b[0mx\u001b[0m\u001b[0;34m[\u001b[0m\u001b[0mi\u001b[0m\u001b[0;34m]\u001b[0m \u001b[0;32mfor\u001b[0m \u001b[0mx\u001b[0m \u001b[0;32min\u001b[0m \u001b[0mself\u001b[0m\u001b[0;34m.\u001b[0m\u001b[0mX\u001b[0m\u001b[0;34m)\u001b[0m \u001b[0;32mfor\u001b[0m \u001b[0mi\u001b[0m \u001b[0;32min\u001b[0m \u001b[0mrange\u001b[0m\u001b[0;34m(\u001b[0m\u001b[0mN\u001b[0m\u001b[0;34m)\u001b[0m\u001b[0;34m]\u001b[0m\u001b[0;34m\u001b[0m\u001b[0;34m\u001b[0m\u001b[0m\n\u001b[1;32m     10\u001b[0m     \u001b[0mx_max\u001b[0m \u001b[0;34m=\u001b[0m \u001b[0;34m[\u001b[0m\u001b[0mmax\u001b[0m\u001b[0;34m(\u001b[0m\u001b[0mx\u001b[0m\u001b[0;34m[\u001b[0m\u001b[0mi\u001b[0m\u001b[0;34m]\u001b[0m \u001b[0;32mfor\u001b[0m \u001b[0mx\u001b[0m \u001b[0;32min\u001b[0m \u001b[0mself\u001b[0m\u001b[0;34m.\u001b[0m\u001b[0mX\u001b[0m\u001b[0;34m)\u001b[0m \u001b[0;32mfor\u001b[0m \u001b[0mi\u001b[0m \u001b[0;32min\u001b[0m \u001b[0mrange\u001b[0m\u001b[0;34m(\u001b[0m\u001b[0mN\u001b[0m\u001b[0;34m)\u001b[0m\u001b[0;34m]\u001b[0m\u001b[0;34m\u001b[0m\u001b[0;34m\u001b[0m\u001b[0m\n",
      "\u001b[0;31mTypeError\u001b[0m: object of type 'numpy.complex128' has no len()"
     ]
    },
    {
     "data": {
      "image/png": "[encoded data removed]",
      "text/plain": [
       "<Figure size 432x288 with 1 Axes>"
      ]
     },
     "metadata": {
      "needs_background": "light"
     },
     "output_type": "display_data"
    }
   ],
   "source": [
    "SC = SpectClust(data)\n",
    "SC.clustering(2)\n",
    "plt.plot([x[0] for x in SC.clusters[0]], [x[1] for x in SC.clusters[0]], 'o', 'r')\n",
    "plt.plot([x[0] for x in SC.clusters[1]], [x[1] for x in SC.clusters[1]], 'o', 'b')\n",
    "plt.show()"
   ]
  },
  {
   "cell_type": "code",
   "execution_count": 205,
   "metadata": {},
   "outputs": [
    {
     "ename": "SyntaxError",
     "evalue": "illegal expression for augmented assignment (<ipython-input-205-f4ce1662110e>, line 2)",
     "output_type": "error",
     "traceback": [
      "\u001b[0;36m  File \u001b[0;32m\"<ipython-input-205-f4ce1662110e>\"\u001b[0;36m, line \u001b[0;32m2\u001b[0m\n\u001b[0;31m    a, b += 1, 1\u001b[0m\n\u001b[0m                ^\u001b[0m\n\u001b[0;31mSyntaxError\u001b[0m\u001b[0;31m:\u001b[0m illegal expression for augmented assignment\n"
     ]
    }
   ],
   "source": [
    "a, b = 1, 1\n",
    "a, b += 1, 1"
   ]
  },
  {
   "cell_type": "code",
   "execution_count": null,
   "metadata": {},
   "outputs": [],
   "source": []
  }
 ],
 "metadata": {
  "kernelspec": {
   "display_name": "Python 3",
   "language": "python",
   "name": "python3"
  },
  "language_info": {
   "codemirror_mode": {
    "name": "ipython",
    "version": 3
   },
   "file_extension": ".py",
   "mimetype": "text/x-python",
   "name": "python",
   "nbconvert_exporter": "python",
   "pygments_lexer": "ipython3",
   "version": "3.7.3"
  }
 },
 "nbformat": 4,
 "nbformat_minor": 4
}
