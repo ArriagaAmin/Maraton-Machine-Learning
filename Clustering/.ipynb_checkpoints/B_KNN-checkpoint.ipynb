{
 "cells": [
  {
   "cell_type": "markdown",
   "metadata": {},
   "source": [
    "# **KNN**"
   ]
  },
  {
   "cell_type": "markdown",
   "metadata": {},
   "source": [
    "## **Implementacion**"
   ]
  },
  {
   "cell_type": "code",
   "execution_count": 161,
   "metadata": {},
   "outputs": [],
   "source": [
    "import numpy as np\n",
    "import matplotlib.pyplot as plt\n",
    "import csv\n",
    "\n",
    "from mpl_toolkits.mplot3d import axes3d\n",
    "from math import sqrt, inf"
   ]
  },
  {
   "cell_type": "code",
   "execution_count": 595,
   "metadata": {},
   "outputs": [],
   "source": [
    "class Node:\n",
    "  def __init__(self, parent, x, area):\n",
    "    self.parent = parent\n",
    "    self.x = x\n",
    "    self.area = area\n",
    "    self.childs = [None, None]\n",
    "\n",
    "class KNN:\n",
    "  def __init__(self, X):\n",
    "    self.X = X\n",
    "    \n",
    "  def d(self, x, y):\n",
    "    return np.linalg.norm(x-y)\n",
    "    \n",
    "  def build_kd_tree(self, X=None, parent=None, right=True, d=0, root=True, area=None):\n",
    "    # Si el nodo es la raiz, entonces tomamos todos los datos y el area es todo el espacio.\n",
    "    if root: \n",
    "      X = self.X\n",
    "      area = [-inf,inf]*len(X[0])\n",
    "        \n",
    "    # Si no hay elementos, no se crea ningun nodo\n",
    "    if len(X) == 0: return\n",
    "    # Si solo hay un elemento, creamos un nodo con ese unico elemento.\n",
    "    elif len(X) == 1:\n",
    "      node = Node(parent, X[0], area)\n",
    "      # Verificamos que el nodo no sea la raiz, lo que significaria que solo hay un dato.\n",
    "      if not root: parent.childs[int(right)] = node\n",
    "    # Si hay mas de un dato.\n",
    "    else:\n",
    "      # Ordenamos los elementos segun el d-esimo atributo.\n",
    "      X_c = X.copy()\n",
    "      X_c.sort(key = lambda x: x[d])\n",
    "      # Obtenemos la mediana.\n",
    "      m = int(len(X_c)/2)\n",
    "      x_m = X_c[m]\n",
    "      # Creamos un nuevo nodo donde se almacenara la mediana.\n",
    "      node = Node(parent, x_m, area)\n",
    "      if not root: parent.childs[int(right)] = node\n",
    "      else: self.kd_tree = node\n",
    "      # Llamamos recursivamente la funcion para los hijos izquierdo y derecho.\n",
    "      # Derecho\n",
    "      X_r = X_c[m+1:].copy()\n",
    "      area_r = area.copy()\n",
    "      area_r[2*d] = x_m[d]\n",
    "      # Izquierdo\n",
    "      X_l = X_c[:m].copy()\n",
    "      area_l = area.copy()\n",
    "      area_l[2*d+1] = x_m[d]\n",
    "      # Llamada recursiva\n",
    "      self.build_kd_tree(X_l, node, False, (d+1)%len(x_m), False, area_l)\n",
    "      self.build_kd_tree(X_r, node, True, (d+1)%len(x_m), False, area_r)\n",
    "\n",
    "  def knn(self, x, k, method=\"Force\"):\n",
    "    if method == \"Force\":\n",
    "      distances, neighbors = [], []\n",
    "      for x_i in self.X:\n",
    "        dist = self.d(x, x_i)\n",
    "        find = False\n",
    "        for i in range(len(distances)):\n",
    "          if distances[i] > dist:\n",
    "            A, B = distances[:i].copy(), neighbors[:i].copy()\n",
    "            A.append(dist)\n",
    "            B.append(x_i)\n",
    "            A.extend(distances[i:])\n",
    "            B.extend(neighbors[i:])\n",
    "            distances, neighbors = A.copy(), B.copy()\n",
    "            find = True\n",
    "            break\n",
    "        if not find: \n",
    "          distances.append(dist)\n",
    "          neighbors.append(x_i)\n",
    "      return neighbors[:k]\n",
    "    else:\n",
    "      self.min_d = [inf]*k\n",
    "      self.neighbors = [None]*k\n",
    "      self.knn_kd_tree(x, self.kd_tree, 0)\n",
    "        \n",
    "      neighbors = self.neighbors\n",
    "      self.min_d = None\n",
    "      self.neighbors = None\n",
    "      return neighbors\n",
    "\n",
    "  def knn_kd_tree(self, x, node, d):\n",
    "    # Verificamos si el punto se encuentra fuera del hipercubo definido por el nodo actual.\n",
    "    if not all(node.area[2*i] <= x[i] <= node.area[2*i+1] for i in range(len(x))):\n",
    "      # Por cada dimension, verificamos si el punto se encuentra dentro de los lados\n",
    "      # correspondientes al hipercubo\n",
    "      p = []\n",
    "      for i in range(len(x)):\n",
    "        # Si no es asi, almacenamos la coordenada del punto que se encuentra fuera del\n",
    "        # lado del hipercubo.\n",
    "        if node.area[2*i] > x[i]: p.append(node.area[2*i])\n",
    "        elif x[i] > node.area[2*i+1]: p.append(node.area[2*i+1])\n",
    "        else: p.append(x[i])\n",
    "        \n",
    "            \n",
    "      # Calculamos la distancia entre las coordenadas del punto fuera del hipercubo y\n",
    "      # la interseccion de los lados correspondientes. Si es mayor a la mayor de las \n",
    "      # distancias menores actuales, entonces no existe ninguno punto dentro del hipercubo\n",
    "      # que este mas cerca que alguno de los actuales k vecinos.\n",
    "      dist = self.d(np.array(p), x)\n",
    "      if dist >= self.min_d[-1]: return\n",
    "        \n",
    "    # Calculamos la distancia entre el punto y la raiz actual. Verificamos si es menor\n",
    "    # que alguna de las menores distancias.\n",
    "    dist = self.d(x, node.x)\n",
    "    for i in range(len(self.min_d)):\n",
    "      if dist < self.min_d[i]:\n",
    "        # Copiamos los i-1-esimos vecinos actuales\n",
    "        aux_d, aux_n = self.min_d[:i].copy(), self.neighbors[:i].copy()\n",
    "        # Agregamos el nuevo\n",
    "        aux_d.append(dist)\n",
    "        aux_n.append(node.x)\n",
    "        # Agregamos los vecinos restantes, menos el ultimo que queda fuera.\n",
    "        aux_d.extend(self.min_d[i:len(self.min_d)-1])\n",
    "        aux_n.extend(self.neighbors[i:len(self.neighbors)-1])\n",
    "        # Actualizamos.\n",
    "        self.min_d, self.neighbors = aux_d, aux_n\n",
    "        # Salimos del for\n",
    "        break\n",
    "        \n",
    "    # Llamamos primero a la subdivision del arbol tal que el punto cumpla la condicion,\n",
    "    # con la esperanza de que al llamar el segundo hijo, este pueda ser descartado facilmente.\n",
    "    if x[d] <= node.area[2*d+1] and node.childs[0] != None: \n",
    "      self.knn_kd_tree(x, node.childs[0], (d+1)%len(x))\n",
    "      if node.childs[1] != None:\n",
    "        self.knn_kd_tree(x, node.childs[1], (d+1)%len(x))\n",
    "        \n",
    "    elif x[d] >= node.area[2*d] and node.childs[1] != None: \n",
    "      self.knn_kd_tree(x, node.childs[1], (d+1)%len(x))\n",
    "      if node.childs[0] != None:\n",
    "        self.knn_kd_tree(x, node.childs[0], (d+1)%len(x))\n",
    "    \n",
    "    elif node.childs[0] != None: \n",
    "      self.knn_kd_tree(x, node.childs[0], (d+1)%len(x))\n",
    "      if node.childs[1] != None:\n",
    "        self.knn_kd_tree(x, node.childs[1], (d+1)%len(x))\n",
    "        \n",
    "    elif node.childs[1] != None:\n",
    "      self.knn_kd_tree(x, node.childs[1], (d+1)%len(x))\n",
    "      \n",
    "    "
   ]
  },
  {
   "cell_type": "markdown",
   "metadata": {},
   "source": [
    "## **Lectura de Datos**"
   ]
  },
  {
   "cell_type": "code",
   "execution_count": 596,
   "metadata": {},
   "outputs": [
    {
     "data": {
      "image/png": "[encoded data removed]",
      "text/plain": [
       "<Figure size 432x288 with 1 Axes>"
      ]
     },
     "metadata": {
      "needs_background": "light"
     },
     "output_type": "display_data"
    }
   ],
   "source": [
    "# Leemos los datos y los graficamos.\n",
    "with open('../../MaterialMML/DataSets/Mall_Customers.csv', newline='') as File:  \n",
    "    reader = csv.reader(File)\n",
    "    X, Y = [], []\n",
    "    prim = True\n",
    "    for row in reader:\n",
    "      if not prim:\n",
    "        X.append(np.array([int(r) for r in row[2:4]]))\n",
    "      else: prim = False\n",
    "\n",
    "# Agregamos los puntos en el plano 3D\n",
    "plt.plot([x[0] for x in X], [x[1] for x in X], 'o', c='b')\n",
    "\n",
    "# Mostramos el gráfico\n",
    "plt.show()"
   ]
  },
  {
   "cell_type": "markdown",
   "metadata": {},
   "source": [
    "## **Prueba**"
   ]
  },
  {
   "cell_type": "markdown",
   "metadata": {},
   "source": [
    "### **Fuerza bruta**"
   ]
  },
  {
   "cell_type": "code",
   "execution_count": 597,
   "metadata": {},
   "outputs": [],
   "source": [
    "knn = KNN(X)\n",
    "k = 15"
   ]
  },
  {
   "cell_type": "code",
   "execution_count": 598,
   "metadata": {},
   "outputs": [
    {
     "data": {
      "image/png": "[encoded data removed]",
      "text/plain": [
       "<Figure size 432x432 with 1 Axes>"
      ]
     },
     "metadata": {
      "needs_background": "light"
     },
     "output_type": "display_data"
    }
   ],
   "source": [
    "x = np.array([48, 75])\n",
    "neighbors = knn.knn(x, k)\n",
    "\n",
    "plt.figure(figsize=(6,6))\n",
    "plt.xlim(20, 80)\n",
    "plt.ylim(60, 120)\n",
    "# Agregamos los puntos en el plano 3D\n",
    "plt.plot([x[0] for x in X], [x[1] for x in X], 'o', c='b')\n",
    "plt.plot([n[0] for n in neighbors], \n",
    "            [n[1] for n in neighbors], 'o', c='r')\n",
    "plt.plot([x[0]], [x[1]], 'x', c='r')\n",
    "\n",
    "# Mostramos el gráfico\n",
    "plt.show()"
   ]
  },
  {
   "cell_type": "markdown",
   "metadata": {},
   "source": []
  },
  {
   "cell_type": "code",
   "execution_count": 606,
   "metadata": {},
   "outputs": [
    {
     "data": {
      "image/png": "[encoded data removed]",
      "text/plain": [
       "<Figure size 432x432 with 1 Axes>"
      ]
     },
     "metadata": {
      "needs_background": "light"
     },
     "output_type": "display_data"
    }
   ],
   "source": [
    "knn.build_kd_tree()\n",
    "x = np.array([48, 75])\n",
    "neighbors = knn.knn(x, 10, method=\"KD-Tree\")\n",
    "\n",
    "plt.figure(figsize=(6,6))\n",
    "plt.xlim(0, 80)\n",
    "plt.ylim(40, 120)\n",
    "# Agregamos los puntos en el plano 3D\n",
    "plt.plot([x[0] for x in X], [x[1] for x in X], 'o', c='b')\n",
    "plt.plot([n[0] for n in neighbors], [n[1] for n in neighbors], 'o', c='r')\n",
    "plt.plot([x[0]], [x[1]], 'x', c='r')\n",
    "\n",
    "# Mostramos el gráfico\n",
    "plt.show()"
   ]
  },
  {
   "cell_type": "code",
   "execution_count": null,
   "metadata": {},
   "outputs": [],
   "source": []
  }
 ],
 "metadata": {
  "kernelspec": {
   "display_name": "Python 3",
   "language": "python",
   "name": "python3"
  },
  "language_info": {
   "codemirror_mode": {
    "name": "ipython",
    "version": 3
   },
   "file_extension": ".py",
   "mimetype": "text/x-python",
   "name": "python",
   "nbconvert_exporter": "python",
   "pygments_lexer": "ipython3",
   "version": "3.7.3"
  }
 },
 "nbformat": 4,
 "nbformat_minor": 4
}
