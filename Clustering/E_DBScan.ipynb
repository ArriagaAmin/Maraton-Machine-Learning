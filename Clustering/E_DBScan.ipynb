{
 "cells": [
  {
   "cell_type": "markdown",
   "metadata": {},
   "source": [
    "# **DBSCAN**"
   ]
  },
  {
   "cell_type": "markdown",
   "metadata": {},
   "source": [
    "## **Implementacion**"
   ]
  },
  {
   "cell_type": "code",
   "execution_count": 28,
   "metadata": {},
   "outputs": [],
   "source": [
    "import numpy as np\n",
    "import matplotlib.pyplot as plt\n",
    "\n",
    "from math import e\n",
    "from random import randint, uniform\n",
    "from sklearn.datasets import make_circles"
   ]
  },
  {
   "cell_type": "code",
   "execution_count": 17,
   "metadata": {},
   "outputs": [],
   "source": [
    "class DBS:\n",
    "  def __init__(self, X):\n",
    "    self.X = X\n",
    "\n",
    "  def d(self, x, y):\n",
    "    \"\"\" Distancia Euclidiana. \"\"\"\n",
    "    return np.linalg.norm(x-y)\n",
    "\n",
    "  def query(self, x, dist):\n",
    "    \"\"\" Calculamos los vecinos de un elemento dada una distancia minima. \"\"\"\n",
    "    neighbors = []\n",
    "    for x_i in self.X:\n",
    "      # Si la distancia entre x y x_i es menos a la distancia minima, entonces\n",
    "      # x_i es un vecino de x.\n",
    "      if self.d(x, x_i) <= dist:\n",
    "        neighbors.append(x_i)\n",
    "    return neighbors\n",
    "\n",
    "  def clustering(self, dist, min_x):\n",
    "    \"\"\" Agrupamos los datos usando el metodo de DBScan. \"\"\"\n",
    "    # Contador de clusters.\n",
    "    C = -1\n",
    "    # Diccionario  label[x] -> C  tal que   x in C\n",
    "    labels = {tuple(x) : None for x in self.X}\n",
    "    \n",
    "    for x in self.X:\n",
    "      # Si el elemento ya fue etiquetado, pasamos al siguiente.\n",
    "      if labels[tuple(x)] != None: continue\n",
    "      neighbors = self.query(x, dist)\n",
    "    \n",
    "      # Si el elemento no tiene suficientes vecinos, es un dato atipico.\n",
    "      if len(neighbors) < min_x:\n",
    "        labels[tuple(x)] = -1\n",
    "        continue\n",
    "        \n",
    "      # Pasamos a un nuevo cluster, etiquetamos el elemento con el cluster actual.\n",
    "      C += 1\n",
    "      labels[tuple(x)] = C\n",
    "      # Sacamos al elemento de sus propios vecinos y creamos el conjunto semilla.\n",
    "      neighbors.pop(neighbors.index(x))\n",
    "      seed_set = neighbors.copy()\n",
    "        \n",
    "      for s in seed_set:\n",
    "        # Si el elemento fue consierado atipico, ahora sera etiquetado con el\n",
    "        # cluster actual.\n",
    "        if labels[tuple(s)] == -1: labels[tuple(s)] = C\n",
    "        # Si ya tiene etiqueta, pasamos al siguiente elemento.\n",
    "        if labels[tuple(s)] != None: continue\n",
    "            \n",
    "        # Etiquetamos al elemento con el cluster actual.\n",
    "        labels[tuple(s)] = C\n",
    "        # Calculamos los vecinos del elemento.\n",
    "        neighbors = self.query(s, dist)\n",
    "        # Si el elemento tiene suficientes vecinos.\n",
    "        if len(neighbors) >= min_x:\n",
    "          # Unimos los conjuntos \"neighbors\" y \"seed_set\"\n",
    "          for n in neighbors: \n",
    "            if not any(np.equal(n, ss).all() for ss in seed_set): seed_set.append(n)\n",
    "                \n",
    "    return labels\n",
    "    "
   ]
  },
  {
   "cell_type": "markdown",
   "metadata": {},
   "source": [
    "## **Lectura de Datos**"
   ]
  },
  {
   "cell_type": "code",
   "execution_count": 40,
   "metadata": {},
   "outputs": [
    {
     "data": {
      "image/png": "[encoded data removed]",
      "text/plain": [
       "<Figure size 432x288 with 1 Axes>"
      ]
     },
     "metadata": {
      "needs_background": "light"
     },
     "output_type": "display_data"
    }
   ],
   "source": [
    "nb_samples = 150\n",
    "\n",
    "X0 = np.expand_dims(np.linspace(-2 * np.pi, 2 * np.pi, nb_samples), axis=1)\n",
    "Y0 = -5 - np.cos(2.0 * X0) + np.random.uniform(0.0, 2.0, size=(nb_samples, 1))\n",
    " \n",
    "X1 = np.expand_dims(np.linspace(-2 * np.pi, 2 * np.pi, nb_samples), axis=1)\n",
    "Y1 = 3.5 - np.cos(2.0 * X0) + np.random.uniform(0.0, 2.0, size=(nb_samples, 1))\n",
    " \n",
    "data_0 = np.concatenate([X0, Y0], axis=1)\n",
    "data_1 = np.concatenate([X1, Y1], axis=1)\n",
    "data = np.concatenate([data_0, data_1], axis=0)\n",
    "data = [d for d in data]\n",
    "for c in make_circles(30)[0]: data.append(c)\n",
    "\n",
    "plt.plot([d[0] for d in data], [d[1] for d in data], 'o')\n",
    "plt.show()\n"
   ]
  },
  {
   "cell_type": "markdown",
   "metadata": {},
   "source": [
    "## **Resultados**"
   ]
  },
  {
   "cell_type": "code",
   "execution_count": 41,
   "metadata": {},
   "outputs": [],
   "source": [
    "dbs = DBS(data)\n",
    "labels = dbs.clustering(1.5, 5)"
   ]
  },
  {
   "cell_type": "code",
   "execution_count": 42,
   "metadata": {},
   "outputs": [
    {
     "data": {
      "image/png": "[encoded data removed]",
      "text/plain": [
       "<Figure size 432x288 with 1 Axes>"
      ]
     },
     "metadata": {
      "needs_background": "light"
     },
     "output_type": "display_data"
    }
   ],
   "source": [
    "clusters = [[] for _ in range(max(labels.values())+2)]\n",
    "for x in labels:\n",
    "  clusters[labels[tuple(x)]].append(x)\n",
    "for c in clusters[:]:\n",
    "  plt.plot([x[0] for x in c], [x[1] for x in c], 'o')\n",
    "plt.show()"
   ]
  },
  {
   "cell_type": "code",
   "execution_count": null,
   "metadata": {},
   "outputs": [],
   "source": []
  }
 ],
 "metadata": {
  "kernelspec": {
   "display_name": "Python 3",
   "language": "python",
   "name": "python3"
  },
  "language_info": {
   "codemirror_mode": {
    "name": "ipython",
    "version": 3
   },
   "file_extension": ".py",
   "mimetype": "text/x-python",
   "name": "python",
   "nbconvert_exporter": "python",
   "pygments_lexer": "ipython3",
   "version": "3.7.3"
  }
 },
 "nbformat": 4,
 "nbformat_minor": 4
}
