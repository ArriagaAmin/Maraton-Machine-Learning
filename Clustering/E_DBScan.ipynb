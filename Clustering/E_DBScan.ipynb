{
 "cells": [
  {
   "cell_type": "markdown",
   "metadata": {},
   "source": [
    "# **DBSCAN**"
   ]
  },
  {
   "cell_type": "markdown",
   "metadata": {},
   "source": [
    "## **Implementacion**"
   ]
  },
  {
   "cell_type": "code",
   "execution_count": 80,
   "metadata": {},
   "outputs": [],
   "source": [
    "import numpy as np\n",
    "import matplotlib.pyplot as plt\n",
    "\n",
    "from math import e, inf\n",
    "from random import randint, uniform\n",
    "from sklearn.datasets import make_circles"
   ]
  },
  {
   "cell_type": "markdown",
   "metadata": {},
   "source": [
    "### KNN"
   ]
  },
  {
   "cell_type": "code",
   "execution_count": 81,
   "metadata": {},
   "outputs": [],
   "source": [
    "class Node:\n",
    "  def __init__(self, parent, x, area):\n",
    "    self.parent = parent\n",
    "    self.x = x\n",
    "    self.childs = [None, None]  # [left_child, right_child]\n",
    "    # El area es un vector 2*len(x)-dimensional y representa un hipercubo, donde cada\n",
    "    # par de elementos representan los valores minimos y maximos de una determinada coordenada.\n",
    "    # Por ejemplo, si len(x) == 2, entonces area = [a, b, c, d] representa el cuadrado:\n",
    "    #      a <= x[0] <= b;    c <= x[1] <= d\n",
    "    self.area = area\n",
    "\n",
    "class KNN:\n",
    "  def __init__(self, X):\n",
    "    self.X = X\n",
    "    \n",
    "  def d(self, x, y):\n",
    "    \"\"\" Distancia euclidiana entre dos vectores. \"\"\"\n",
    "    return np.linalg.norm(x-y)\n",
    "    \n",
    "  def build_kd_tree(self, X=None, parent=None, right=True, d=0, root=True, area=None):\n",
    "    \"\"\" Construimos un KD-Tree.\n",
    "    INPUT:\n",
    "        X: Conjunto de datos del nodo actual.\n",
    "        parent: Nodo padre del nodo actual.\n",
    "        right: Indica si el nodo actual es el hijo derecho.\n",
    "        d: Atributo que se usara para realizar la division binaria de los datos.\n",
    "        root: Indica si el nodo actual es la raiz de todo el arbol.\n",
    "        area: Area que representa el nodo actual.\n",
    "    \"\"\"\n",
    "    # Si el nodo es la raiz, entonces tomamos todos los datos y el area es todo el espacio.\n",
    "    if root: \n",
    "      X = self.X\n",
    "      area = [-inf,inf]*len(X[0])\n",
    "        \n",
    "    # Si no hay elementos, no se crea ningun nodo\n",
    "    if len(X) == 0: return\n",
    "    # Si solo hay un elemento, creamos un nodo con ese unico elemento.\n",
    "    elif len(X) == 1:\n",
    "      node = Node(parent, X[0], area)\n",
    "      # Verificamos que el nodo no sea la raiz, lo que significaria que solo hay un dato.\n",
    "      if not root: parent.childs[int(right)] = node\n",
    "    # Si hay mas de un dato.\n",
    "    else:\n",
    "      # Ordenamos los elementos segun el d-esimo atributo.\n",
    "      X_c = X.copy()\n",
    "      X_c.sort(key = lambda x: x[d])\n",
    "      # Obtenemos la mediana.\n",
    "      m = int(len(X_c)/2)\n",
    "      x_m = X_c[m]\n",
    "      # Creamos un nuevo nodo donde se almacenara la mediana.\n",
    "      node = Node(parent, x_m, area)\n",
    "      if not root: parent.childs[int(right)] = node\n",
    "      else: self.kd_tree = node\n",
    "      # Llamamos recursivamente la funcion para los hijos izquierdo y derecho.\n",
    "      # Derecho\n",
    "      X_r = X_c[m+1:].copy()\n",
    "      area_r = area.copy()\n",
    "      area_r[2*d] = x_m[d]\n",
    "      # Izquierdo\n",
    "      X_l = X_c[:m].copy()\n",
    "      area_l = area.copy()\n",
    "      area_l[2*d+1] = x_m[d]\n",
    "      # Llamada recursiva\n",
    "      self.build_kd_tree(X_l, node, False, (d+1)%len(x_m), False, area_l)\n",
    "      self.build_kd_tree(X_r, node, True, (d+1)%len(x_m), False, area_r)\n",
    "    \n",
    "  def radius_neighbors(self, x, r):\n",
    "    # Aqui almacenamos los vecinos\n",
    "    self.neighbors = []\n",
    "\n",
    "    self.r_neighbors(x, self.kd_tree, 0, r)\n",
    "\n",
    "    neighbors = self.neighbors\n",
    "    # Nos aseguramos de eliminar estos atributos.\n",
    "    self.neighbors = None\n",
    "    return neighbors\n",
    "\n",
    "  def r_neighbors(self, x, node, d, r):\n",
    "    # Verificamos si el punto se encuentra fuera del hipercubo definido por el nodo actual.\n",
    "    if not all(node.area[2*i] <= x[i] <= node.area[2*i+1] for i in range(len(x))):\n",
    "      # Por cada dimension, verificamos si el punto se encuentra dentro de los lados\n",
    "      # correspondientes al hipercubo\n",
    "      p = []\n",
    "      for i in range(len(x)):\n",
    "        # Si no es asi, almacenamos la coordenada del punto que se encuentra fuera del\n",
    "        # lado del hipercubo.\n",
    "        if node.area[2*i] > x[i]: p.append(node.area[2*i])\n",
    "        elif x[i] > node.area[2*i+1]: p.append(node.area[2*i+1])\n",
    "        else: p.append(x[i])\n",
    "        \n",
    "            \n",
    "      # Calculamos la distancia entre las coordenadas del punto fuera del hipercubo y\n",
    "      # la interseccion de los lados correspondientes. Si es mayor al radio, no necesitamos\n",
    "      # verificar mas esta rama.\n",
    "      dist = self.d(np.array(p), x)\n",
    "      if dist > r: return\n",
    "        \n",
    "    # Calculamos la distancia entre el punto y la raiz actual. Verificamos si es menor\n",
    "    # que el raio\n",
    "    dist = self.d(x, node.x)\n",
    "    if dist < r: self.neighbors.append(node.x)\n",
    "        \n",
    "    # Llamamos primero a la subdivision del arbol tal que el punto cumpla la condicion,\n",
    "    # con la esperanza de que al llamar el segundo hijo, este pueda ser descartado facilmente.\n",
    "    # Si no cumple ninguna, se recorre primero el hijo izquierdo (si no es nulo) y luego el derecho.\n",
    "    if x[d] <= node.area[2*d+1] and node.childs[0] != None: \n",
    "      self.r_neighbors(x, node.childs[0], (d+1)%len(x), r)\n",
    "      if node.childs[1] != None:\n",
    "        self.r_neighbors(x, node.childs[1], (d+1)%len(x), r)\n",
    "        \n",
    "    elif x[d] >= node.area[2*d] and node.childs[1] != None: \n",
    "      self.r_neighbors(x, node.childs[1], (d+1)%len(x), r)\n",
    "      if node.childs[0] != None:\n",
    "        self.r_neighbors(x, node.childs[0], (d+1)%len(x), r)\n",
    "    \n",
    "    elif node.childs[0] != None: \n",
    "      self.r_neighbors(x, node.childs[0], (d+1)%len(x), r)\n",
    "      if node.childs[1] != None:\n",
    "        self.r_neighbors(x, node.childs[1], (d+1)%len(x), r)\n",
    "        \n",
    "    elif node.childs[1] != None:\n",
    "      self.r_neighbors(x, node.childs[1], (d+1)%len(x), r)"
   ]
  },
  {
   "cell_type": "markdown",
   "metadata": {},
   "source": [
    "### **DBScan**"
   ]
  },
  {
   "cell_type": "code",
   "execution_count": 89,
   "metadata": {},
   "outputs": [],
   "source": [
    "class DBS:\n",
    "  def __init__(self, X):\n",
    "    self.X = X\n",
    "    # Usaremos el KNN para obtener los vecinos\n",
    "    self.knn = KNN(X)\n",
    "    self.knn.build_kd_tree()\n",
    "\n",
    "  def d(self, x, y):\n",
    "    \"\"\" Distancia Euclidiana. \"\"\"\n",
    "    return np.linalg.norm(x-y)\n",
    "\n",
    "  def query(self, x, dist):\n",
    "    \"\"\" Calculamos los vecinos de un elemento dada una distancia minima. \"\"\"\n",
    "    return self.knn.radius_neighbors(x, dist)\n",
    "\n",
    "  def clustering(self, dist, min_x):\n",
    "    \"\"\" Agrupamos los datos usando el metodo de DBScan. \"\"\"\n",
    "    # Contador de clusters.\n",
    "    C = -1\n",
    "    # Diccionario  label[x] -> C  tal que   x in C\n",
    "    labels = {tuple(x) : None for x in self.X}\n",
    "    \n",
    "    for x in self.X:\n",
    "      # Si el elemento ya fue etiquetado, pasamos al siguiente.\n",
    "      if labels[tuple(x)] != None: continue\n",
    "      neighbors = self.query(x, dist)\n",
    "    \n",
    "      # Si el elemento no tiene suficientes vecinos, es un dato atipico.\n",
    "      if len(neighbors) < min_x:\n",
    "        labels[tuple(x)] = -1\n",
    "        continue\n",
    "        \n",
    "      # Pasamos a un nuevo cluster, etiquetamos el elemento con el cluster actual.\n",
    "      C += 1\n",
    "      labels[tuple(x)] = C\n",
    "      # Sacamos al elemento de sus propios vecinos y creamos el conjunto semilla.\n",
    "      for i in range(len(neighbors)):\n",
    "        if np.equal(neighbors[i], x).all(): \n",
    "            neighbors.pop(i)\n",
    "            break\n",
    "      seed_set = neighbors.copy()\n",
    "        \n",
    "      for s in seed_set:\n",
    "        # Si el elemento fue consierado atipico, ahora sera etiquetado con el\n",
    "        # cluster actual.\n",
    "        if labels[tuple(s)] == -1: labels[tuple(s)] = C\n",
    "        # Si ya tiene etiqueta, pasamos al siguiente elemento.\n",
    "        if labels[tuple(s)] != None: continue\n",
    "            \n",
    "        # Etiquetamos al elemento con el cluster actual.\n",
    "        labels[tuple(s)] = C\n",
    "        # Calculamos los vecinos del elemento.\n",
    "        neighbors = self.query(s, dist)\n",
    "        # Si el elemento tiene suficientes vecinos.\n",
    "        if len(neighbors) >= min_x:\n",
    "          # Unimos los conjuntos \"neighbors\" y \"seed_set\"\n",
    "          for n in neighbors: \n",
    "            if not any(np.equal(n, ss).all() for ss in seed_set): seed_set.append(n)\n",
    "                \n",
    "    return labels\n",
    "    "
   ]
  },
  {
   "cell_type": "markdown",
   "metadata": {},
   "source": [
    "## **Lectura de Datos**"
   ]
  },
  {
   "cell_type": "code",
   "execution_count": 90,
   "metadata": {},
   "outputs": [
    {
     "data": {
      "image/png": "[encoded data removed]",
      "text/plain": [
       "<Figure size 432x288 with 1 Axes>"
      ]
     },
     "metadata": {
      "needs_background": "light"
     },
     "output_type": "display_data"
    }
   ],
   "source": [
    "nb_samples = 150\n",
    "\n",
    "X0 = np.expand_dims(np.linspace(-2 * np.pi, 2 * np.pi, nb_samples), axis=1)\n",
    "Y0 = -5 - np.cos(2.0 * X0) + np.random.uniform(0.0, 2.0, size=(nb_samples, 1))\n",
    " \n",
    "X1 = np.expand_dims(np.linspace(-2 * np.pi, 2 * np.pi, nb_samples), axis=1)\n",
    "Y1 = 3.5 - np.cos(2.0 * X0) + np.random.uniform(0.0, 2.0, size=(nb_samples, 1))\n",
    " \n",
    "data_0 = np.concatenate([X0, Y0], axis=1)\n",
    "data_1 = np.concatenate([X1, Y1], axis=1)\n",
    "data = np.concatenate([data_0, data_1], axis=0)\n",
    "data = [d for d in data]\n",
    "for c in make_circles(30)[0]: data.append(c)\n",
    "\n",
    "plt.plot([d[0] for d in data], [d[1] for d in data], 'o')\n",
    "plt.show()\n"
   ]
  },
  {
   "cell_type": "markdown",
   "metadata": {},
   "source": [
    "## **Resultados**"
   ]
  },
  {
   "cell_type": "code",
   "execution_count": 93,
   "metadata": {},
   "outputs": [],
   "source": [
    "dbs = DBS(data)\n",
    "labels = dbs.clustering(1.5, 5)"
   ]
  },
  {
   "cell_type": "code",
   "execution_count": 94,
   "metadata": {},
   "outputs": [
    {
     "data": {
      "image/png": "[encoded data removed]",
      "text/plain": [
       "<Figure size 432x288 with 1 Axes>"
      ]
     },
     "metadata": {
      "needs_background": "light"
     },
     "output_type": "display_data"
    }
   ],
   "source": [
    "clusters = [[] for _ in range(max(labels.values())+2)]\n",
    "for x in labels:\n",
    "  clusters[labels[tuple(x)]].append(x)\n",
    "for c in clusters:\n",
    "  plt.plot([x[0] for x in c], [x[1] for x in c], 'o')\n",
    "plt.show()"
   ]
  },
  {
   "cell_type": "code",
   "execution_count": null,
   "metadata": {},
   "outputs": [],
   "source": []
  }
 ],
 "metadata": {
  "kernelspec": {
   "display_name": "Python 3",
   "language": "python",
   "name": "python3"
  },
  "language_info": {
   "codemirror_mode": {
    "name": "ipython",
    "version": 3
   },
   "file_extension": ".py",
   "mimetype": "text/x-python",
   "name": "python",
   "nbconvert_exporter": "python",
   "pygments_lexer": "ipython3",
   "version": "3.7.3"
  }
 },
 "nbformat": 4,
 "nbformat_minor": 4
}
