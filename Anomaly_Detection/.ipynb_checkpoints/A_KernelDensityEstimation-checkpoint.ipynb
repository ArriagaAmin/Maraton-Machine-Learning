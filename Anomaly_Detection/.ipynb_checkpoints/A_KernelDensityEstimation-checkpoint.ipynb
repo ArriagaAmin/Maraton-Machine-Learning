{
 "cells": [
  {
   "cell_type": "markdown",
   "metadata": {},
   "source": [
    "# **KERNEL DENSITY ESTIMATION**"
   ]
  },
  {
   "cell_type": "markdown",
   "metadata": {},
   "source": [
    "## **Implementation**"
   ]
  },
  {
   "cell_type": "code",
   "execution_count": 8,
   "metadata": {},
   "outputs": [],
   "source": [
    "import numpy as np\n",
    "import matplotlib.pyplot as plt\n",
    "import csv\n",
    "\n",
    "from math import e, sqrt, pi\n",
    "from random import randint\n",
    "from scipy import stats"
   ]
  },
  {
   "cell_type": "markdown",
   "metadata": {},
   "source": [
    "### **KNN**"
   ]
  },
  {
   "cell_type": "code",
   "execution_count": 2,
   "metadata": {},
   "outputs": [],
   "source": [
    "class Node:\n",
    "  def __init__(self, parent, x, area):\n",
    "    self.parent = parent\n",
    "    self.x = x\n",
    "    self.childs = [None, None]  # [left_child, right_child]\n",
    "    # El area es un vector 2*len(x)-dimensional y representa un hipercubo, donde cada\n",
    "    # par de elementos representan los valores minimos y maximos de una determinada coordenada.\n",
    "    # Por ejemplo, si len(x) == 2, entonces area = [a, b, c, d] representa el cuadrado:\n",
    "    #      a <= x[0] <= b;    c <= x[1] <= d\n",
    "    self.area = area\n",
    "\n",
    "class KNN:\n",
    "  def __init__(self, X):\n",
    "    self.X = X\n",
    "    \n",
    "  def d(self, x, y):\n",
    "    \"\"\" Distancia euclidiana entre dos vectores. \"\"\"\n",
    "    return np.linalg.norm(x-y)\n",
    "    \n",
    "  def build_kd_tree(self, X=None, parent=None, right=True, d=0, root=True, area=None):\n",
    "    \"\"\" Construimos un KD-Tree.\n",
    "    INPUT:\n",
    "        X: Conjunto de datos del nodo actual.\n",
    "        parent: Nodo padre del nodo actual.\n",
    "        right: Indica si el nodo actual es el hijo derecho.\n",
    "        d: Atributo que se usara para realizar la division binaria de los datos.\n",
    "        root: Indica si el nodo actual es la raiz de todo el arbol.\n",
    "        area: Area que representa el nodo actual.\n",
    "    \"\"\"\n",
    "    # Si el nodo es la raiz, entonces tomamos todos los datos y el area es todo el espacio.\n",
    "    if root: \n",
    "      X = self.X\n",
    "      area = [-inf,inf]*len(X[0])\n",
    "        \n",
    "    # Si no hay elementos, no se crea ningun nodo\n",
    "    if len(X) == 0: return\n",
    "    # Si solo hay un elemento, creamos un nodo con ese unico elemento.\n",
    "    elif len(X) == 1:\n",
    "      node = Node(parent, X[0], area)\n",
    "      # Verificamos que el nodo no sea la raiz, lo que significaria que solo hay un dato.\n",
    "      if not root: parent.childs[int(right)] = node\n",
    "    # Si hay mas de un dato.\n",
    "    else:\n",
    "      # Ordenamos los elementos segun el d-esimo atributo.\n",
    "      X_c = X.copy()\n",
    "      X_c.sort(key = lambda x: x[d])\n",
    "      # Obtenemos la mediana.\n",
    "      m = int(len(X_c)/2)\n",
    "      x_m = X_c[m]\n",
    "      # Creamos un nuevo nodo donde se almacenara la mediana.\n",
    "      node = Node(parent, x_m, area)\n",
    "      if not root: parent.childs[int(right)] = node\n",
    "      else: self.kd_tree = node\n",
    "      # Llamamos recursivamente la funcion para los hijos izquierdo y derecho.\n",
    "      # Derecho\n",
    "      X_r = X_c[m+1:].copy()\n",
    "      area_r = area.copy()\n",
    "      area_r[2*d] = x_m[d]\n",
    "      # Izquierdo\n",
    "      X_l = X_c[:m].copy()\n",
    "      area_l = area.copy()\n",
    "      area_l[2*d+1] = x_m[d]\n",
    "      # Llamada recursiva\n",
    "      self.build_kd_tree(X_l, node, False, (d+1)%len(x_m), False, area_l)\n",
    "      self.build_kd_tree(X_r, node, True, (d+1)%len(x_m), False, area_r)\n",
    "    \n",
    "  def radius_neighbors(self, x, r):\n",
    "    # Aqui almacenamos los vecinos\n",
    "    self.neighbors = []\n",
    "\n",
    "    self.r_neighbors(x, self.kd_tree, 0, r)\n",
    "\n",
    "    neighbors = self.neighbors\n",
    "    # Nos aseguramos de eliminar estos atributos.\n",
    "    self.neighbors = None\n",
    "    return neighbors\n",
    "\n",
    "  def r_neighbors(self, x, node, d, r):\n",
    "    # Verificamos si el punto se encuentra fuera del hipercubo definido por el nodo actual.\n",
    "    if not all(node.area[2*i] <= x[i] <= node.area[2*i+1] for i in range(len(x))):\n",
    "      # Por cada dimension, verificamos si el punto se encuentra dentro de los lados\n",
    "      # correspondientes al hipercubo\n",
    "      p = []\n",
    "      for i in range(len(x)):\n",
    "        # Si no es asi, almacenamos la coordenada del punto que se encuentra fuera del\n",
    "        # lado del hipercubo.\n",
    "        if node.area[2*i] > x[i]: p.append(node.area[2*i])\n",
    "        elif x[i] > node.area[2*i+1]: p.append(node.area[2*i+1])\n",
    "        else: p.append(x[i])\n",
    "        \n",
    "            \n",
    "      # Calculamos la distancia entre las coordenadas del punto fuera del hipercubo y\n",
    "      # la interseccion de los lados correspondientes. Si es mayor al radio, no necesitamos\n",
    "      # verificar mas esta rama.\n",
    "      dist = self.d(np.array(p), x)\n",
    "      if dist > r: return\n",
    "        \n",
    "    # Calculamos la distancia entre el punto y la raiz actual. Verificamos si es menor\n",
    "    # que el raio\n",
    "    dist = self.d(x, node.x)\n",
    "    if dist < r: self.neighbors.append(node.x)\n",
    "        \n",
    "    # Llamamos primero a la subdivision del arbol tal que el punto cumpla la condicion,\n",
    "    # con la esperanza de que al llamar el segundo hijo, este pueda ser descartado facilmente.\n",
    "    # Si no cumple ninguna, se recorre primero el hijo izquierdo (si no es nulo) y luego el derecho.\n",
    "    if x[d] <= node.area[2*d+1] and node.childs[0] != None: \n",
    "      self.r_neighbors(x, node.childs[0], (d+1)%len(x), r)\n",
    "      if node.childs[1] != None:\n",
    "        self.r_neighbors(x, node.childs[1], (d+1)%len(x), r)\n",
    "        \n",
    "    elif x[d] >= node.area[2*d] and node.childs[1] != None: \n",
    "      self.r_neighbors(x, node.childs[1], (d+1)%len(x), r)\n",
    "      if node.childs[0] != None:\n",
    "        self.r_neighbors(x, node.childs[0], (d+1)%len(x), r)\n",
    "    \n",
    "    elif node.childs[0] != None: \n",
    "      self.r_neighbors(x, node.childs[0], (d+1)%len(x), r)\n",
    "      if node.childs[1] != None:\n",
    "        self.r_neighbors(x, node.childs[1], (d+1)%len(x), r)\n",
    "        \n",
    "    elif node.childs[1] != None:\n",
    "      self.r_neighbors(x, node.childs[1], (d+1)%len(x), r)"
   ]
  },
  {
   "cell_type": "markdown",
   "metadata": {},
   "source": [
    "### **KDE**"
   ]
  },
  {
   "cell_type": "code",
   "execution_count": 34,
   "metadata": {},
   "outputs": [],
   "source": [
    "class KDE:\n",
    "  def __init__(self, X):\n",
    "    self.X = X\n",
    "    # Usaremos el KNN para obtener los vecinos\n",
    "    self.knn = KNN(X)\n",
    "    self.knn.build_kd_tree()\n",
    "    \n",
    "  def gauss(self, x, h):\n",
    "    return e**(-np.dot(x,x)/(2*(h**2))) / sqrt(2*pi*h**2)\n",
    "\n",
    "  def p(self, x, dist, h=1):\n",
    "    neighbors = self.knn.radius_neighbors(x, dist)\n",
    "    N = len(neighbors)\n",
    "    if N==0: return 0\n",
    "    return sum(self.gauss((x-n)/h, h) for n in neighbors)/(N*h)"
   ]
  },
  {
   "cell_type": "markdown",
   "metadata": {},
   "source": [
    "## **Lectura de Datos**"
   ]
  },
  {
   "cell_type": "code",
   "execution_count": 46,
   "metadata": {},
   "outputs": [
    {
     "data": {
      "image/png": "[encoded data removed]",
      "text/plain": [
       "<Figure size 432x288 with 1 Axes>"
      ]
     },
     "metadata": {
      "needs_background": "light"
     },
     "output_type": "display_data"
    }
   ],
   "source": [
    "normal1 = stats.norm(-0.4, 0.4)\n",
    "normal2 = stats.norm(0.5, 0.1)\n",
    "normal3 = stats.norm(-2, 0.3)\n",
    "normal4 = stats.norm(2, 0.3)\n",
    "data = []\n",
    "for _ in range(100):\n",
    "  data.append(np.array([normal1.rvs(1)[0], normal1.rvs(1)[0]-1.5]))\n",
    "  data.append(np.array([normal2.rvs(1)[0], normal2.rvs(1)[0]-1.5]))\n",
    "  data.append(np.array([normal3.rvs(1)[0], normal4.rvs(1)[0]-1.5]))\n",
    "\n",
    "plt.plot([d[0] for d in data], [d[1] for d in data], 'o')\n",
    "plt.show()"
   ]
  },
  {
   "cell_type": "markdown",
   "metadata": {},
   "source": [
    "## **Resultados**"
   ]
  },
  {
   "cell_type": "code",
   "execution_count": null,
   "metadata": {},
   "outputs": [],
   "source": [
    "kde = KDE(data)\n",
    "def p(x): return kde.p(x, 0.5, 2)\n",
    "\n",
    "x = y = np.linspace(-4, 2, 100)\n",
    "X, Y = np.meshgrid(x,y)\n",
    "\n",
    "Z = [[0 for _ in range(len(X[0]))] for _ in range(len(X))]\n",
    "for i in range(len(X)):\n",
    "    for j in range(len(X[0])):\n",
    "        Z[i][j] = p(np.array([X[i][j], Y[i][j]]))\n",
    "        \n",
    "plt.contour(X, Y, Z, 20)\n",
    "plt.show()"
   ]
  },
  {
   "cell_type": "code",
   "execution_count": null,
   "metadata": {},
   "outputs": [],
   "source": []
  }
 ],
 "metadata": {
  "kernelspec": {
   "display_name": "Python 3",
   "language": "python",
   "name": "python3"
  },
  "language_info": {
   "codemirror_mode": {
    "name": "ipython",
    "version": 3
   },
   "file_extension": ".py",
   "mimetype": "text/x-python",
   "name": "python",
   "nbconvert_exporter": "python",
   "pygments_lexer": "ipython3",
   "version": "3.7.3"
  }
 },
 "nbformat": 4,
 "nbformat_minor": 4
}
